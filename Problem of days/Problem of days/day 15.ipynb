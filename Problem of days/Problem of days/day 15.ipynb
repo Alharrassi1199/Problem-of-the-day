{
 "cells": [
  {
   "cell_type": "code",
   "execution_count": 1,
   "id": "f208a296",
   "metadata": {},
   "outputs": [
    {
     "name": "stdout",
     "output_type": "stream",
     "text": [
      "l\n",
      "$\n"
     ]
    }
   ],
   "source": [
    "def function(s):\n",
    "    char_count = {}\n",
    "\n",
    "    # Count the frequency of each character\n",
    "    for char in s:\n",
    "        char_count[char] = char_count.get(char, 0) + 1\n",
    "\n",
    "    # Find the first non-repeating character\n",
    "    for char in s:\n",
    "        if char_count[char] == 1:\n",
    "            return char\n",
    "    return '$'  # No non-repeating character found\n",
    "    \n",
    "\n",
    "# Case 1: repeating characters found \n",
    "input_string = \"alwahaibi\"\n",
    "result = function(input_string)\n",
    "print(result)  # Output: \"l\"\n",
    "\n",
    "# Case 2: no non-repeating characters found \n",
    "input_string = \"omanoman\"\n",
    "result = function(input_string)\n",
    "print(result)  # Output: \"$\""
   ]
  },
  {
   "cell_type": "code",
   "execution_count": null,
   "id": "f8279b20",
   "metadata": {},
   "outputs": [],
   "source": []
  }
 ],
 "metadata": {
  "kernelspec": {
   "display_name": "Python 3 (ipykernel)",
   "language": "python",
   "name": "python3"
  },
  "language_info": {
   "codemirror_mode": {
    "name": "ipython",
    "version": 3
   },
   "file_extension": ".py",
   "mimetype": "text/x-python",
   "name": "python",
   "nbconvert_exporter": "python",
   "pygments_lexer": "ipython3",
   "version": "3.11.4"
  }
 },
 "nbformat": 4,
 "nbformat_minor": 5
}
